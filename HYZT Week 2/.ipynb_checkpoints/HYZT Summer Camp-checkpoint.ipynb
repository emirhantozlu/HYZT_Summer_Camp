{
 "cells": [
  {
   "cell_type": "code",
   "execution_count": 1,
   "id": "a3966cdd-07cb-464a-a14b-7665b2566de2",
   "metadata": {},
   "outputs": [],
   "source": [
    "import pandas as pd\n",
    "\n",
    "# train ve predict veri setlerimizin okunması\n",
    "train_df=pd.read_csv(r\"C:\\Users\\Emirhan Tozlu\\Desktop\\proje\\Hacettepe Yapay Zeka Yaz Kampı\\Hacettepe Yapay Zeka Yaz Kampı Hafta 2\\veri setleri\\train.csv\")\n",
    "predict_df=pd.read_csv(r\"C:\\Users\\Emirhan Tozlu\\Desktop\\proje\\Hacettepe Yapay Zeka Yaz Kampı\\Hacettepe Yapay Zeka Yaz Kampı Hafta 2\\veri setleri\\predict.csv\")"
   ]
  },
  {
   "cell_type": "code",
   "execution_count": 2,
   "id": "90bd4ded-da11-49a0-bc78-f2eaa539ea0d",
   "metadata": {},
   "outputs": [
    {
     "data": {
      "text/plain": [
       "<bound method DataFrame.info of      PassengerId  Survived  Pclass  \\\n",
       "0              1         1       3   \n",
       "1              2         1       1   \n",
       "2              3         0       1   \n",
       "3              4         0       3   \n",
       "4              5         0       3   \n",
       "..           ...       ...     ...   \n",
       "346          347         0       3   \n",
       "347          348         0       3   \n",
       "348          349         1       1   \n",
       "349          350         0       3   \n",
       "350          351         1       3   \n",
       "\n",
       "                                                Name     Sex   Age  SibSp  \\\n",
       "0           Dean, Mrs. Bertram (Eva Georgetta Light)  female  33.0      1   \n",
       "1                        Chaudanson, Miss. Victorine  female  36.0      0   \n",
       "2                           Smith, Mr. Lucien Philip    male  24.0      1   \n",
       "3                                  Kennedy, Mr. John    male   NaN      0   \n",
       "4                                Thomas, Mr. Tannous    male   NaN      0   \n",
       "..                                               ...     ...   ...    ...   \n",
       "346                    Abelseth, Mr. Olaus Jorgensen    male  25.0      0   \n",
       "347                         Brobeck, Mr. Karl Rudolf    male  22.0      0   \n",
       "348  Ryerson, Mrs. Arthur Larned (Emily Maria Borie)  female  48.0      1   \n",
       "349                                Assaf, Mr. Gerios    male  21.0      0   \n",
       "350                          Burns, Miss. Mary Delia  female  18.0      0   \n",
       "\n",
       "     Parch     Ticket      Fare            Cabin Embarked  \n",
       "0        2  C.A. 2315   20.5750              NaN        S  \n",
       "1        0   PC 17608  262.3750              B61        C  \n",
       "2        0      13695   60.0000              C31        S  \n",
       "3        0     368783    7.7500              NaN        Q  \n",
       "4        0       2684    7.2250              NaN        C  \n",
       "..     ...        ...       ...              ...      ...  \n",
       "346      0     348122    7.6500            F G63        S  \n",
       "347      0     350045    7.7958              NaN        S  \n",
       "348      3   PC 17608  262.3750  B57 B59 B63 B66        C  \n",
       "349      0       2692    7.2250              NaN        C  \n",
       "350      0     330963    7.8792              NaN        Q  \n",
       "\n",
       "[351 rows x 12 columns]>"
      ]
     },
     "execution_count": 2,
     "metadata": {},
     "output_type": "execute_result"
    }
   ],
   "source": [
    "# veri seti hakkında genel bilgi almak için kullanılır.\n",
    "train_df.info"
   ]
  },
  {
   "cell_type": "code",
   "execution_count": 3,
   "id": "724f1091-342d-4b65-9301-a7e384e87df5",
   "metadata": {},
   "outputs": [
    {
     "data": {
      "text/plain": [
       "(351, 12)"
      ]
     },
     "execution_count": 3,
     "metadata": {},
     "output_type": "execute_result"
    }
   ],
   "source": [
    "# veri setinin boyut bilgisini almak için kullanılır.\n",
    "train_df.shape"
   ]
  },
  {
   "cell_type": "code",
   "execution_count": 4,
   "id": "73dcc884-89a2-4832-a750-2df141d311f9",
   "metadata": {},
   "outputs": [
    {
     "data": {
      "text/html": [
       "<div>\n",
       "<style scoped>\n",
       "    .dataframe tbody tr th:only-of-type {\n",
       "        vertical-align: middle;\n",
       "    }\n",
       "\n",
       "    .dataframe tbody tr th {\n",
       "        vertical-align: top;\n",
       "    }\n",
       "\n",
       "    .dataframe thead th {\n",
       "        text-align: right;\n",
       "    }\n",
       "</style>\n",
       "<table border=\"1\" class=\"dataframe\">\n",
       "  <thead>\n",
       "    <tr style=\"text-align: right;\">\n",
       "      <th></th>\n",
       "      <th>PassengerId</th>\n",
       "      <th>Survived</th>\n",
       "      <th>Pclass</th>\n",
       "      <th>Name</th>\n",
       "      <th>Sex</th>\n",
       "      <th>Age</th>\n",
       "      <th>SibSp</th>\n",
       "      <th>Parch</th>\n",
       "      <th>Ticket</th>\n",
       "      <th>Fare</th>\n",
       "      <th>Cabin</th>\n",
       "      <th>Embarked</th>\n",
       "    </tr>\n",
       "  </thead>\n",
       "  <tbody>\n",
       "    <tr>\n",
       "      <th>0</th>\n",
       "      <td>1</td>\n",
       "      <td>1</td>\n",
       "      <td>3</td>\n",
       "      <td>Dean, Mrs. Bertram (Eva Georgetta Light)</td>\n",
       "      <td>female</td>\n",
       "      <td>33.0</td>\n",
       "      <td>1</td>\n",
       "      <td>2</td>\n",
       "      <td>C.A. 2315</td>\n",
       "      <td>20.575</td>\n",
       "      <td>NaN</td>\n",
       "      <td>S</td>\n",
       "    </tr>\n",
       "    <tr>\n",
       "      <th>1</th>\n",
       "      <td>2</td>\n",
       "      <td>1</td>\n",
       "      <td>1</td>\n",
       "      <td>Chaudanson, Miss. Victorine</td>\n",
       "      <td>female</td>\n",
       "      <td>36.0</td>\n",
       "      <td>0</td>\n",
       "      <td>0</td>\n",
       "      <td>PC 17608</td>\n",
       "      <td>262.375</td>\n",
       "      <td>B61</td>\n",
       "      <td>C</td>\n",
       "    </tr>\n",
       "    <tr>\n",
       "      <th>2</th>\n",
       "      <td>3</td>\n",
       "      <td>0</td>\n",
       "      <td>1</td>\n",
       "      <td>Smith, Mr. Lucien Philip</td>\n",
       "      <td>male</td>\n",
       "      <td>24.0</td>\n",
       "      <td>1</td>\n",
       "      <td>0</td>\n",
       "      <td>13695</td>\n",
       "      <td>60.000</td>\n",
       "      <td>C31</td>\n",
       "      <td>S</td>\n",
       "    </tr>\n",
       "    <tr>\n",
       "      <th>3</th>\n",
       "      <td>4</td>\n",
       "      <td>0</td>\n",
       "      <td>3</td>\n",
       "      <td>Kennedy, Mr. John</td>\n",
       "      <td>male</td>\n",
       "      <td>NaN</td>\n",
       "      <td>0</td>\n",
       "      <td>0</td>\n",
       "      <td>368783</td>\n",
       "      <td>7.750</td>\n",
       "      <td>NaN</td>\n",
       "      <td>Q</td>\n",
       "    </tr>\n",
       "    <tr>\n",
       "      <th>4</th>\n",
       "      <td>5</td>\n",
       "      <td>0</td>\n",
       "      <td>3</td>\n",
       "      <td>Thomas, Mr. Tannous</td>\n",
       "      <td>male</td>\n",
       "      <td>NaN</td>\n",
       "      <td>0</td>\n",
       "      <td>0</td>\n",
       "      <td>2684</td>\n",
       "      <td>7.225</td>\n",
       "      <td>NaN</td>\n",
       "      <td>C</td>\n",
       "    </tr>\n",
       "  </tbody>\n",
       "</table>\n",
       "</div>"
      ],
      "text/plain": [
       "   PassengerId  Survived  Pclass                                      Name  \\\n",
       "0            1         1       3  Dean, Mrs. Bertram (Eva Georgetta Light)   \n",
       "1            2         1       1               Chaudanson, Miss. Victorine   \n",
       "2            3         0       1                  Smith, Mr. Lucien Philip   \n",
       "3            4         0       3                         Kennedy, Mr. John   \n",
       "4            5         0       3                       Thomas, Mr. Tannous   \n",
       "\n",
       "      Sex   Age  SibSp  Parch     Ticket     Fare Cabin Embarked  \n",
       "0  female  33.0      1      2  C.A. 2315   20.575   NaN        S  \n",
       "1  female  36.0      0      0   PC 17608  262.375   B61        C  \n",
       "2    male  24.0      1      0      13695   60.000   C31        S  \n",
       "3    male   NaN      0      0     368783    7.750   NaN        Q  \n",
       "4    male   NaN      0      0       2684    7.225   NaN        C  "
      ]
     },
     "execution_count": 4,
     "metadata": {},
     "output_type": "execute_result"
    }
   ],
   "source": [
    "# veri setimizin ilk beş satırını gözlemlemek için kullanılır.\n",
    "train_df.head(5)"
   ]
  },
  {
   "cell_type": "code",
   "execution_count": 5,
   "id": "8b9ebaa9-eb33-4570-9a19-6c3559b1e128",
   "metadata": {},
   "outputs": [
    {
     "data": {
      "text/html": [
       "<div>\n",
       "<style scoped>\n",
       "    .dataframe tbody tr th:only-of-type {\n",
       "        vertical-align: middle;\n",
       "    }\n",
       "\n",
       "    .dataframe tbody tr th {\n",
       "        vertical-align: top;\n",
       "    }\n",
       "\n",
       "    .dataframe thead th {\n",
       "        text-align: right;\n",
       "    }\n",
       "</style>\n",
       "<table border=\"1\" class=\"dataframe\">\n",
       "  <thead>\n",
       "    <tr style=\"text-align: right;\">\n",
       "      <th></th>\n",
       "      <th>PassengerId</th>\n",
       "      <th>Survived</th>\n",
       "      <th>Pclass</th>\n",
       "      <th>Age</th>\n",
       "      <th>SibSp</th>\n",
       "      <th>Parch</th>\n",
       "      <th>Fare</th>\n",
       "    </tr>\n",
       "  </thead>\n",
       "  <tbody>\n",
       "    <tr>\n",
       "      <th>count</th>\n",
       "      <td>351.000000</td>\n",
       "      <td>351.000000</td>\n",
       "      <td>351.000000</td>\n",
       "      <td>280.000000</td>\n",
       "      <td>351.000000</td>\n",
       "      <td>351.000000</td>\n",
       "      <td>350.000000</td>\n",
       "    </tr>\n",
       "    <tr>\n",
       "      <th>mean</th>\n",
       "      <td>176.000000</td>\n",
       "      <td>0.376068</td>\n",
       "      <td>2.239316</td>\n",
       "      <td>30.069643</td>\n",
       "      <td>0.444444</td>\n",
       "      <td>0.361823</td>\n",
       "      <td>37.040572</td>\n",
       "    </tr>\n",
       "    <tr>\n",
       "      <th>std</th>\n",
       "      <td>101.469207</td>\n",
       "      <td>0.485089</td>\n",
       "      <td>0.848355</td>\n",
       "      <td>13.984711</td>\n",
       "      <td>0.926848</td>\n",
       "      <td>0.948756</td>\n",
       "      <td>58.075559</td>\n",
       "    </tr>\n",
       "    <tr>\n",
       "      <th>min</th>\n",
       "      <td>1.000000</td>\n",
       "      <td>0.000000</td>\n",
       "      <td>1.000000</td>\n",
       "      <td>0.170000</td>\n",
       "      <td>0.000000</td>\n",
       "      <td>0.000000</td>\n",
       "      <td>0.000000</td>\n",
       "    </tr>\n",
       "    <tr>\n",
       "      <th>25%</th>\n",
       "      <td>88.500000</td>\n",
       "      <td>0.000000</td>\n",
       "      <td>1.000000</td>\n",
       "      <td>21.000000</td>\n",
       "      <td>0.000000</td>\n",
       "      <td>0.000000</td>\n",
       "      <td>7.895800</td>\n",
       "    </tr>\n",
       "    <tr>\n",
       "      <th>50%</th>\n",
       "      <td>176.000000</td>\n",
       "      <td>0.000000</td>\n",
       "      <td>3.000000</td>\n",
       "      <td>27.000000</td>\n",
       "      <td>0.000000</td>\n",
       "      <td>0.000000</td>\n",
       "      <td>14.500000</td>\n",
       "    </tr>\n",
       "    <tr>\n",
       "      <th>75%</th>\n",
       "      <td>263.500000</td>\n",
       "      <td>1.000000</td>\n",
       "      <td>3.000000</td>\n",
       "      <td>39.000000</td>\n",
       "      <td>1.000000</td>\n",
       "      <td>0.000000</td>\n",
       "      <td>31.682275</td>\n",
       "    </tr>\n",
       "    <tr>\n",
       "      <th>max</th>\n",
       "      <td>351.000000</td>\n",
       "      <td>1.000000</td>\n",
       "      <td>3.000000</td>\n",
       "      <td>67.000000</td>\n",
       "      <td>8.000000</td>\n",
       "      <td>9.000000</td>\n",
       "      <td>512.329200</td>\n",
       "    </tr>\n",
       "  </tbody>\n",
       "</table>\n",
       "</div>"
      ],
      "text/plain": [
       "       PassengerId    Survived      Pclass         Age       SibSp  \\\n",
       "count   351.000000  351.000000  351.000000  280.000000  351.000000   \n",
       "mean    176.000000    0.376068    2.239316   30.069643    0.444444   \n",
       "std     101.469207    0.485089    0.848355   13.984711    0.926848   \n",
       "min       1.000000    0.000000    1.000000    0.170000    0.000000   \n",
       "25%      88.500000    0.000000    1.000000   21.000000    0.000000   \n",
       "50%     176.000000    0.000000    3.000000   27.000000    0.000000   \n",
       "75%     263.500000    1.000000    3.000000   39.000000    1.000000   \n",
       "max     351.000000    1.000000    3.000000   67.000000    8.000000   \n",
       "\n",
       "            Parch        Fare  \n",
       "count  351.000000  350.000000  \n",
       "mean     0.361823   37.040572  \n",
       "std      0.948756   58.075559  \n",
       "min      0.000000    0.000000  \n",
       "25%      0.000000    7.895800  \n",
       "50%      0.000000   14.500000  \n",
       "75%      0.000000   31.682275  \n",
       "max      9.000000  512.329200  "
      ]
     },
     "execution_count": 5,
     "metadata": {},
     "output_type": "execute_result"
    }
   ],
   "source": [
    "#sayısal sütünlar için temel istatistikleri gösterir.\n",
    "train_df.describe()"
   ]
  },
  {
   "cell_type": "code",
   "execution_count": 6,
   "id": "23c29511-f188-48a0-a745-6211dac1a65e",
   "metadata": {
    "scrolled": true
   },
   "outputs": [
    {
     "data": {
      "text/plain": [
       "PassengerId      0\n",
       "Survived         0\n",
       "Pclass           0\n",
       "Name             0\n",
       "Sex              0\n",
       "Age             71\n",
       "SibSp            0\n",
       "Parch            0\n",
       "Ticket           0\n",
       "Fare             1\n",
       "Cabin          271\n",
       "Embarked         0\n",
       "dtype: int64"
      ]
     },
     "execution_count": 6,
     "metadata": {},
     "output_type": "execute_result"
    }
   ],
   "source": [
    "train_df.isnull().sum()"
   ]
  },
  {
   "cell_type": "code",
   "execution_count": 7,
   "id": "12238e93-75c3-41e5-aee1-0cb2d16aeca0",
   "metadata": {},
   "outputs": [
    {
     "name": "stderr",
     "output_type": "stream",
     "text": [
      "C:\\Users\\Emirhan Tozlu\\AppData\\Local\\Temp\\ipykernel_12980\\1494262158.py:4: FutureWarning: A value is trying to be set on a copy of a DataFrame or Series through chained assignment using an inplace method.\n",
      "The behavior will change in pandas 3.0. This inplace method will never work because the intermediate object on which we are setting values always behaves as a copy.\n",
      "\n",
      "For example, when doing 'df[col].method(value, inplace=True)', try using 'df.method({col: value}, inplace=True)' or df[col] = df[col].method(value) instead, to perform the operation inplace on the original object.\n",
      "\n",
      "\n",
      "  train_df['Age'].fillna(train_df['Age'].median(),inplace=True)\n",
      "C:\\Users\\Emirhan Tozlu\\AppData\\Local\\Temp\\ipykernel_12980\\1494262158.py:7: FutureWarning: A value is trying to be set on a copy of a DataFrame or Series through chained assignment using an inplace method.\n",
      "The behavior will change in pandas 3.0. This inplace method will never work because the intermediate object on which we are setting values always behaves as a copy.\n",
      "\n",
      "For example, when doing 'df[col].method(value, inplace=True)', try using 'df.method({col: value}, inplace=True)' or df[col] = df[col].method(value) instead, to perform the operation inplace on the original object.\n",
      "\n",
      "\n",
      "  train_df['Fare'].fillna(train_df['Fare'].median(),inplace=True)\n"
     ]
    }
   ],
   "source": [
    "# Eksik verileri dolduruyoruz.\n",
    "\n",
    "# Yaş sütunundaki eksik değerleri medyan yaş ile dolduruyoruz.\n",
    "train_df['Age'].fillna(train_df['Age'].median(),inplace=True) \n",
    "\n",
    "# Ücret sütunundaki eksik değeri medyan değer ile dolduruyoruz.\n",
    "train_df['Fare'].fillna(train_df['Fare'].median(),inplace=True) "
   ]
  },
  {
   "cell_type": "code",
   "execution_count": 8,
   "id": "09f0fc5d-3c0e-4ab4-b2e8-7be132323255",
   "metadata": {},
   "outputs": [],
   "source": [
    "# kategorik verileri sayısal verilere dönüştürüyoruz.\n",
    "\n",
    "# sex sütununu 'male' ve 'female' değerleri 0 ve 1  olarak kodluyoruz.\n",
    "train_df['Sex']=train_df['Sex'].map({'male':0,'female':1})\n",
    "\n",
    "\n",
    "# Embarked sütunundaki kategorileri sayısal verilere dönüştürüyoruz.\n",
    "# 'S','C','Q' kategorilerini 0,1 ve 2 ile kodluyoruz.\n",
    "\n",
    "train_df['Embarked']=train_df['Embarked'].map({'S':0,'C':1,'Q':2})"
   ]
  },
  {
   "cell_type": "code",
   "execution_count": 9,
   "id": "e30d901f-34ad-4b41-9225-bb402b8096c0",
   "metadata": {},
   "outputs": [],
   "source": [
    "# öznitelik seçimi \n",
    "# bazı öznitelikler model için gerekli olmayabilir veya overfittinge sebeb olabilir.\n",
    "\n",
    "features=['Pclass','Sex','Age','SibSp','Parch','Fare','Embarked']\n",
    "\n",
    "X= train_df[features]\n",
    "y= train_df['Survived'] "
   ]
  },
  {
   "cell_type": "code",
   "execution_count": 10,
   "id": "56a3894f-4058-4428-a715-7183e41592eb",
   "metadata": {},
   "outputs": [],
   "source": [
    "# veri setini eğitim ve test olarak ikiye ayırma \n",
    "from sklearn.model_selection import train_test_split\n",
    "X_train,X_test,y_train,y_test=train_test_split(X,y,test_size=0.2,random_state=42)"
   ]
  },
  {
   "cell_type": "code",
   "execution_count": 11,
   "id": "f18596b1-94c5-4067-9458-e715ab4a77ae",
   "metadata": {},
   "outputs": [
    {
     "name": "stdout",
     "output_type": "stream",
     "text": [
      "Model Accuracy\n"
     ]
    }
   ],
   "source": [
    "# model seçimi  ve eğitimi\n",
    "\n",
    "from sklearn.ensemble import RandomForestClassifier\n",
    "from sklearn.metrics import accuracy_score\n",
    "\n",
    "model=RandomForestClassifier(random_state=42)\n",
    "model.fit(X_train,y_train)\n",
    "\n",
    "# test seti üzerinde tahminler yapıyoruz.\n",
    "y_pred=model.predict(X_test)\n",
    "\n",
    "# modelin başarımını değerlendiriyoruz.\n",
    "accuracy = accuracy_score(y_test,y_pred)\n",
    "print(f\"Model Accuracy\")"
   ]
  },
  {
   "cell_type": "code",
   "execution_count": 12,
   "id": "58f06b7b-c042-496c-953a-2c3a8a2617e8",
   "metadata": {},
   "outputs": [
    {
     "name": "stdout",
     "output_type": "stream",
     "text": [
      "              precision    recall  f1-score   support\n",
      "\n",
      "           0       1.00      1.00      1.00        42\n",
      "           1       1.00      1.00      1.00        29\n",
      "\n",
      "    accuracy                           1.00        71\n",
      "   macro avg       1.00      1.00      1.00        71\n",
      "weighted avg       1.00      1.00      1.00        71\n",
      "\n"
     ]
    }
   ],
   "source": [
    "# modelin performansını değerlendiriyoruz\n",
    "\n",
    "from sklearn.metrics import classification_report\n",
    "\n",
    "print(classification_report(y_test,y_pred))"
   ]
  },
  {
   "cell_type": "code",
   "execution_count": 13,
   "id": "fb7a1f3d-882f-4659-ae31-6bbc651441d6",
   "metadata": {},
   "outputs": [
    {
     "ename": "NameError",
     "evalue": "name 'test_df' is not defined",
     "output_type": "error",
     "traceback": [
      "\u001b[1;31m---------------------------------------------------------------------------\u001b[0m",
      "\u001b[1;31mNameError\u001b[0m                                 Traceback (most recent call last)",
      "Cell \u001b[1;32mIn[13], line 6\u001b[0m\n\u001b[0;32m      1\u001b[0m \u001b[38;5;66;03m# model tahminlerini csv dosyasına kaydetme\u001b[39;00m\n\u001b[0;32m      3\u001b[0m \u001b[38;5;28;01mimport\u001b[39;00m \u001b[38;5;21;01mpandas\u001b[39;00m \u001b[38;5;28;01mas\u001b[39;00m \u001b[38;5;21;01mpd\u001b[39;00m\n\u001b[0;32m      5\u001b[0m results\u001b[38;5;241m=\u001b[39mpd\u001b[38;5;241m.\u001b[39mDataFrame({\n\u001b[1;32m----> 6\u001b[0m     \u001b[38;5;124m'\u001b[39m\u001b[38;5;124mPassengerId\u001b[39m\u001b[38;5;124m'\u001b[39m:test_df[\u001b[38;5;124m'\u001b[39m\u001b[38;5;124mPassengerID\u001b[39m\u001b[38;5;124m'\u001b[39m],\n\u001b[0;32m      7\u001b[0m     \u001b[38;5;124m'\u001b[39m\u001b[38;5;124mSurvived\u001b[39m\u001b[38;5;124m'\u001b[39m:y_pred\n\u001b[0;32m      8\u001b[0m })\n\u001b[0;32m     11\u001b[0m results\u001b[38;5;241m.\u001b[39mto_csv(\u001b[38;5;124m'\u001b[39m\u001b[38;5;124msubmission.csv\u001b[39m\u001b[38;5;124m'\u001b[39m,index\u001b[38;5;241m=\u001b[39m\u001b[38;5;28;01mFalse\u001b[39;00m)\n",
      "\u001b[1;31mNameError\u001b[0m: name 'test_df' is not defined"
     ]
    }
   ],
   "source": [
    "# model tahminlerini csv dosyasına kaydetme\n",
    "\n",
    "import pandas as pd\n",
    "\n",
    "results=pd.DataFrame({\n",
    "    'PassengerId':test_df['PassengerID'],\n",
    "    'Survived':y_pred\n",
    "})\n",
    "\n",
    "\n",
    "results.to_csv('submission.csv',index=False)"
   ]
  }
 ],
 "metadata": {
  "kernelspec": {
   "display_name": "Python 3 (ipykernel)",
   "language": "python",
   "name": "python3"
  },
  "language_info": {
   "codemirror_mode": {
    "name": "ipython",
    "version": 3
   },
   "file_extension": ".py",
   "mimetype": "text/x-python",
   "name": "python",
   "nbconvert_exporter": "python",
   "pygments_lexer": "ipython3",
   "version": "3.12.4"
  }
 },
 "nbformat": 4,
 "nbformat_minor": 5
}
