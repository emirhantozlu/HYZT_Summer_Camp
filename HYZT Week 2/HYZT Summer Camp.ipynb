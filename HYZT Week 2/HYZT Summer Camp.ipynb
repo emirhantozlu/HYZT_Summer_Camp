{
 "cells": [
  {
   "cell_type": "code",
   "execution_count": 1,
   "id": "a3966cdd-07cb-464a-a14b-7665b2566de2",
   "metadata": {},
   "outputs": [],
   "source": [
    "import pandas as pd\n",
    "\n",
    "# Veri setlerinin okunması\n",
    "train_df = pd.read_csv(r\"C:\\\\Users\\\\Emirhan Tozlu\\\\Desktop\\\\proje\\\\Hacettepe Yapay Zeka Yaz Kampı\\\\Hacettepe Yapay Zeka Yaz Kampı Hafta 2\\\\veri setleri\\\\train.csv\")\n",
    "predict_df = pd.read_csv(r\"C:\\\\Users\\\\Emirhan Tozlu\\\\Desktop\\\\proje\\\\Hacettepe Yapay Zeka Yaz Kampı\\\\Hacettepe Yapay Zeka Yaz Kampı Hafta 2\\\\veri setleri\\\\predict.csv\")"
   ]
  },
  {
   "cell_type": "code",
   "execution_count": 2,
   "id": "90bd4ded-da11-49a0-bc78-f2eaa539ea0d",
   "metadata": {},
   "outputs": [
    {
     "name": "stdout",
     "output_type": "stream",
     "text": [
      "<class 'pandas.core.frame.DataFrame'>\n",
      "RangeIndex: 351 entries, 0 to 350\n",
      "Data columns (total 12 columns):\n",
      " #   Column       Non-Null Count  Dtype  \n",
      "---  ------       --------------  -----  \n",
      " 0   PassengerId  351 non-null    int64  \n",
      " 1   Survived     351 non-null    int64  \n",
      " 2   Pclass       351 non-null    int64  \n",
      " 3   Name         351 non-null    object \n",
      " 4   Sex          351 non-null    object \n",
      " 5   Age          280 non-null    float64\n",
      " 6   SibSp        351 non-null    int64  \n",
      " 7   Parch        351 non-null    int64  \n",
      " 8   Ticket       351 non-null    object \n",
      " 9   Fare         350 non-null    float64\n",
      " 10  Cabin        80 non-null     object \n",
      " 11  Embarked     351 non-null    object \n",
      "dtypes: float64(2), int64(5), object(5)\n",
      "memory usage: 33.0+ KB\n"
     ]
    }
   ],
   "source": [
    "# Veri setinin genel bilgilerini görüntüleme\n",
    "train_df.info()"
   ]
  },
  {
   "cell_type": "code",
   "execution_count": 3,
   "id": "724f1091-342d-4b65-9301-a7e384e87df5",
   "metadata": {},
   "outputs": [
    {
     "data": {
      "text/plain": [
       "(351, 12)"
      ]
     },
     "execution_count": 3,
     "metadata": {},
     "output_type": "execute_result"
    }
   ],
   "source": [
    "# veri setinin boyut bilgisini almak için kullanılır.\n",
    "train_df.shape"
   ]
  },
  {
   "cell_type": "code",
   "execution_count": 4,
   "id": "73dcc884-89a2-4832-a750-2df141d311f9",
   "metadata": {},
   "outputs": [
    {
     "data": {
      "text/html": [
       "<div>\n",
       "<style scoped>\n",
       "    .dataframe tbody tr th:only-of-type {\n",
       "        vertical-align: middle;\n",
       "    }\n",
       "\n",
       "    .dataframe tbody tr th {\n",
       "        vertical-align: top;\n",
       "    }\n",
       "\n",
       "    .dataframe thead th {\n",
       "        text-align: right;\n",
       "    }\n",
       "</style>\n",
       "<table border=\"1\" class=\"dataframe\">\n",
       "  <thead>\n",
       "    <tr style=\"text-align: right;\">\n",
       "      <th></th>\n",
       "      <th>PassengerId</th>\n",
       "      <th>Survived</th>\n",
       "      <th>Pclass</th>\n",
       "      <th>Name</th>\n",
       "      <th>Sex</th>\n",
       "      <th>Age</th>\n",
       "      <th>SibSp</th>\n",
       "      <th>Parch</th>\n",
       "      <th>Ticket</th>\n",
       "      <th>Fare</th>\n",
       "      <th>Cabin</th>\n",
       "      <th>Embarked</th>\n",
       "    </tr>\n",
       "  </thead>\n",
       "  <tbody>\n",
       "    <tr>\n",
       "      <th>0</th>\n",
       "      <td>1</td>\n",
       "      <td>1</td>\n",
       "      <td>3</td>\n",
       "      <td>Dean, Mrs. Bertram (Eva Georgetta Light)</td>\n",
       "      <td>female</td>\n",
       "      <td>33.0</td>\n",
       "      <td>1</td>\n",
       "      <td>2</td>\n",
       "      <td>C.A. 2315</td>\n",
       "      <td>20.575</td>\n",
       "      <td>NaN</td>\n",
       "      <td>S</td>\n",
       "    </tr>\n",
       "    <tr>\n",
       "      <th>1</th>\n",
       "      <td>2</td>\n",
       "      <td>1</td>\n",
       "      <td>1</td>\n",
       "      <td>Chaudanson, Miss. Victorine</td>\n",
       "      <td>female</td>\n",
       "      <td>36.0</td>\n",
       "      <td>0</td>\n",
       "      <td>0</td>\n",
       "      <td>PC 17608</td>\n",
       "      <td>262.375</td>\n",
       "      <td>B61</td>\n",
       "      <td>C</td>\n",
       "    </tr>\n",
       "    <tr>\n",
       "      <th>2</th>\n",
       "      <td>3</td>\n",
       "      <td>0</td>\n",
       "      <td>1</td>\n",
       "      <td>Smith, Mr. Lucien Philip</td>\n",
       "      <td>male</td>\n",
       "      <td>24.0</td>\n",
       "      <td>1</td>\n",
       "      <td>0</td>\n",
       "      <td>13695</td>\n",
       "      <td>60.000</td>\n",
       "      <td>C31</td>\n",
       "      <td>S</td>\n",
       "    </tr>\n",
       "    <tr>\n",
       "      <th>3</th>\n",
       "      <td>4</td>\n",
       "      <td>0</td>\n",
       "      <td>3</td>\n",
       "      <td>Kennedy, Mr. John</td>\n",
       "      <td>male</td>\n",
       "      <td>NaN</td>\n",
       "      <td>0</td>\n",
       "      <td>0</td>\n",
       "      <td>368783</td>\n",
       "      <td>7.750</td>\n",
       "      <td>NaN</td>\n",
       "      <td>Q</td>\n",
       "    </tr>\n",
       "    <tr>\n",
       "      <th>4</th>\n",
       "      <td>5</td>\n",
       "      <td>0</td>\n",
       "      <td>3</td>\n",
       "      <td>Thomas, Mr. Tannous</td>\n",
       "      <td>male</td>\n",
       "      <td>NaN</td>\n",
       "      <td>0</td>\n",
       "      <td>0</td>\n",
       "      <td>2684</td>\n",
       "      <td>7.225</td>\n",
       "      <td>NaN</td>\n",
       "      <td>C</td>\n",
       "    </tr>\n",
       "  </tbody>\n",
       "</table>\n",
       "</div>"
      ],
      "text/plain": [
       "   PassengerId  Survived  Pclass                                      Name  \\\n",
       "0            1         1       3  Dean, Mrs. Bertram (Eva Georgetta Light)   \n",
       "1            2         1       1               Chaudanson, Miss. Victorine   \n",
       "2            3         0       1                  Smith, Mr. Lucien Philip   \n",
       "3            4         0       3                         Kennedy, Mr. John   \n",
       "4            5         0       3                       Thomas, Mr. Tannous   \n",
       "\n",
       "      Sex   Age  SibSp  Parch     Ticket     Fare Cabin Embarked  \n",
       "0  female  33.0      1      2  C.A. 2315   20.575   NaN        S  \n",
       "1  female  36.0      0      0   PC 17608  262.375   B61        C  \n",
       "2    male  24.0      1      0      13695   60.000   C31        S  \n",
       "3    male   NaN      0      0     368783    7.750   NaN        Q  \n",
       "4    male   NaN      0      0       2684    7.225   NaN        C  "
      ]
     },
     "execution_count": 4,
     "metadata": {},
     "output_type": "execute_result"
    }
   ],
   "source": [
    "# Veri setinin ilk birkaç satırını görüntüleme\n",
    "train_df.head(5)"
   ]
  },
  {
   "cell_type": "code",
   "execution_count": 5,
   "id": "23c29511-f188-48a0-a745-6211dac1a65e",
   "metadata": {
    "scrolled": true
   },
   "outputs": [
    {
     "data": {
      "text/plain": [
       "PassengerId      0\n",
       "Survived         0\n",
       "Pclass           0\n",
       "Name             0\n",
       "Sex              0\n",
       "Age             71\n",
       "SibSp            0\n",
       "Parch            0\n",
       "Ticket           0\n",
       "Fare             1\n",
       "Cabin          271\n",
       "Embarked         0\n",
       "dtype: int64"
      ]
     },
     "execution_count": 5,
     "metadata": {},
     "output_type": "execute_result"
    }
   ],
   "source": [
    "train_df.isnull().sum()"
   ]
  },
  {
   "cell_type": "code",
   "execution_count": 6,
   "id": "12238e93-75c3-41e5-aee1-0cb2d16aeca0",
   "metadata": {},
   "outputs": [
    {
     "name": "stderr",
     "output_type": "stream",
     "text": [
      "C:\\Users\\Emirhan Tozlu\\AppData\\Local\\Temp\\ipykernel_15776\\3857878098.py:2: FutureWarning: A value is trying to be set on a copy of a DataFrame or Series through chained assignment using an inplace method.\n",
      "The behavior will change in pandas 3.0. This inplace method will never work because the intermediate object on which we are setting values always behaves as a copy.\n",
      "\n",
      "For example, when doing 'df[col].method(value, inplace=True)', try using 'df.method({col: value}, inplace=True)' or df[col] = df[col].method(value) instead, to perform the operation inplace on the original object.\n",
      "\n",
      "\n",
      "  train_df['Age'].fillna(train_df['Age'].median(), inplace=True)\n",
      "C:\\Users\\Emirhan Tozlu\\AppData\\Local\\Temp\\ipykernel_15776\\3857878098.py:5: FutureWarning: A value is trying to be set on a copy of a DataFrame or Series through chained assignment using an inplace method.\n",
      "The behavior will change in pandas 3.0. This inplace method will never work because the intermediate object on which we are setting values always behaves as a copy.\n",
      "\n",
      "For example, when doing 'df[col].method(value, inplace=True)', try using 'df.method({col: value}, inplace=True)' or df[col] = df[col].method(value) instead, to perform the operation inplace on the original object.\n",
      "\n",
      "\n",
      "  train_df['Fare'].fillna(train_df['Fare'].median(), inplace=True)\n",
      "C:\\Users\\Emirhan Tozlu\\AppData\\Local\\Temp\\ipykernel_15776\\3857878098.py:8: FutureWarning: A value is trying to be set on a copy of a DataFrame or Series through chained assignment using an inplace method.\n",
      "The behavior will change in pandas 3.0. This inplace method will never work because the intermediate object on which we are setting values always behaves as a copy.\n",
      "\n",
      "For example, when doing 'df[col].method(value, inplace=True)', try using 'df.method({col: value}, inplace=True)' or df[col] = df[col].method(value) instead, to perform the operation inplace on the original object.\n",
      "\n",
      "\n",
      "  train_df['Cabin'].fillna('Unknown', inplace=True)\n",
      "C:\\Users\\Emirhan Tozlu\\AppData\\Local\\Temp\\ipykernel_15776\\3857878098.py:11: FutureWarning: A value is trying to be set on a copy of a DataFrame or Series through chained assignment using an inplace method.\n",
      "The behavior will change in pandas 3.0. This inplace method will never work because the intermediate object on which we are setting values always behaves as a copy.\n",
      "\n",
      "For example, when doing 'df[col].method(value, inplace=True)', try using 'df.method({col: value}, inplace=True)' or df[col] = df[col].method(value) instead, to perform the operation inplace on the original object.\n",
      "\n",
      "\n",
      "  train_df['Embarked'].fillna(train_df['Embarked'].mode()[0], inplace=True)\n"
     ]
    }
   ],
   "source": [
    "# Yaş sütunundaki eksik değerleri medyan yaş ile doldurma\n",
    "train_df['Age'].fillna(train_df['Age'].median(), inplace=True)\n",
    "\n",
    "# Ücret sütunundaki eksik değeri medyan değer ile doldurma\n",
    "train_df['Fare'].fillna(train_df['Fare'].median(), inplace=True)\n",
    "\n",
    "# Kabin sütunundaki eksik değerleri 'Unknown' ile doldurma\n",
    "train_df['Cabin'].fillna('Unknown', inplace=True)\n",
    "\n",
    "# Embarked sütunundaki eksik değerleri mod (en sık değer) ile doldurma\n",
    "train_df['Embarked'].fillna(train_df['Embarked'].mode()[0], inplace=True)\n"
   ]
  },
  {
   "cell_type": "code",
   "execution_count": 7,
   "id": "095e0c23-d8fa-4762-80b2-e4bff5d3d7f4",
   "metadata": {},
   "outputs": [
    {
     "name": "stdout",
     "output_type": "stream",
     "text": [
      "PassengerId    0\n",
      "Survived       0\n",
      "Pclass         0\n",
      "Name           0\n",
      "Sex            0\n",
      "Age            0\n",
      "SibSp          0\n",
      "Parch          0\n",
      "Ticket         0\n",
      "Fare           0\n",
      "Cabin          0\n",
      "Embarked       0\n",
      "dtype: int64\n"
     ]
    }
   ],
   "source": [
    "# Eksik değerlerin tekrar kontrol edilmesi\n",
    "print(train_df.isnull().sum())\n",
    "\n"
   ]
  },
  {
   "cell_type": "code",
   "execution_count": 8,
   "id": "09f0fc5d-3c0e-4ab4-b2e8-7be132323255",
   "metadata": {},
   "outputs": [],
   "source": [
    "# ## Kategorik Değişkenlerin Dönüştürülmesi\n",
    "\n",
    "# Cinsiyet sütununu sayısal değerlere dönüştürme\n",
    "train_df['Sex'] = train_df['Sex'].map({'male': 0, 'female': 1})\n",
    "\n",
    "# Embarked sütununu one-hot encoding ile dönüştürme\n",
    "train_df = pd.get_dummies(train_df, columns=['Embarked'])\n"
   ]
  },
  {
   "cell_type": "code",
   "execution_count": 9,
   "id": "e30d901f-34ad-4b41-9225-bb402b8096c0",
   "metadata": {},
   "outputs": [],
   "source": [
    "# ## Öznitelik Seçimi\n",
    "\n",
    "# Önemli özniteliklerin seçilmesi\n",
    "features = ['Pclass', 'Sex', 'Age', 'SibSp', 'Parch', 'Fare', 'Embarked_C', 'Embarked_Q', 'Embarked_S']\n",
    "X = train_df[features]\n",
    "y = train_df['Survived']"
   ]
  },
  {
   "cell_type": "code",
   "execution_count": 10,
   "id": "56a3894f-4058-4428-a715-7183e41592eb",
   "metadata": {},
   "outputs": [],
   "source": [
    "# ## Eğitim ve Test Setlerine Ayırma\n",
    "\n",
    "from sklearn.model_selection import train_test_split\n",
    "\n",
    "# Eğitim ve test setlerine ayırma\n",
    "X_train, X_test, y_train, y_test = train_test_split(X, y, test_size=0.2, random_state=42)\n"
   ]
  },
  {
   "cell_type": "code",
   "execution_count": 11,
   "id": "f18596b1-94c5-4067-9458-e715ab4a77ae",
   "metadata": {},
   "outputs": [
    {
     "name": "stdout",
     "output_type": "stream",
     "text": [
      "Model Accuracy: 1.0\n"
     ]
    }
   ],
   "source": [
    "# ## Model Eğitimi ve Değerlendirme\n",
    "\n",
    "from sklearn.ensemble import RandomForestClassifier\n",
    "from sklearn.metrics import accuracy_score\n",
    "\n",
    "# Modeli eğitme\n",
    "model = RandomForestClassifier(random_state=42)\n",
    "model.fit(X_train, y_train)\n",
    "\n",
    "# Tahmin yapma\n",
    "y_pred = model.predict(X_test)\n",
    "\n",
    "# Model doğruluğunu hesaplama\n",
    "accuracy = accuracy_score(y_test, y_pred)\n",
    "print(f\"Model Accuracy: {accuracy}\")"
   ]
  },
  {
   "cell_type": "code",
   "execution_count": 12,
   "id": "b0deacae-135c-4941-89b8-14aed7381c04",
   "metadata": {},
   "outputs": [
    {
     "name": "stderr",
     "output_type": "stream",
     "text": [
      "C:\\Users\\Emirhan Tozlu\\AppData\\Local\\Temp\\ipykernel_15776\\2251281107.py:6: FutureWarning: A value is trying to be set on a copy of a DataFrame or Series through chained assignment using an inplace method.\n",
      "The behavior will change in pandas 3.0. This inplace method will never work because the intermediate object on which we are setting values always behaves as a copy.\n",
      "\n",
      "For example, when doing 'df[col].method(value, inplace=True)', try using 'df.method({col: value}, inplace=True)' or df[col] = df[col].method(value) instead, to perform the operation inplace on the original object.\n",
      "\n",
      "\n",
      "  predict_df['Age'].fillna(predict_df['Age'].median(), inplace=True)\n",
      "C:\\Users\\Emirhan Tozlu\\AppData\\Local\\Temp\\ipykernel_15776\\2251281107.py:7: FutureWarning: A value is trying to be set on a copy of a DataFrame or Series through chained assignment using an inplace method.\n",
      "The behavior will change in pandas 3.0. This inplace method will never work because the intermediate object on which we are setting values always behaves as a copy.\n",
      "\n",
      "For example, when doing 'df[col].method(value, inplace=True)', try using 'df.method({col: value}, inplace=True)' or df[col] = df[col].method(value) instead, to perform the operation inplace on the original object.\n",
      "\n",
      "\n",
      "  predict_df['Fare'].fillna(predict_df['Fare'].median(), inplace=True)\n",
      "C:\\Users\\Emirhan Tozlu\\AppData\\Local\\Temp\\ipykernel_15776\\2251281107.py:8: FutureWarning: A value is trying to be set on a copy of a DataFrame or Series through chained assignment using an inplace method.\n",
      "The behavior will change in pandas 3.0. This inplace method will never work because the intermediate object on which we are setting values always behaves as a copy.\n",
      "\n",
      "For example, when doing 'df[col].method(value, inplace=True)', try using 'df.method({col: value}, inplace=True)' or df[col] = df[col].method(value) instead, to perform the operation inplace on the original object.\n",
      "\n",
      "\n",
      "  predict_df['Cabin'].fillna('Unknown', inplace=True)\n"
     ]
    }
   ],
   "source": [
    "# ## Test Veri Seti Üzerinde Tahmin Yapma\n",
    "\n",
    "# Test verisinde aynı işlemleri yapma\n",
    "predict_df['Sex'] = predict_df['Sex'].map({'male': 0, 'female': 1})\n",
    "predict_df = pd.get_dummies(predict_df, columns=['Embarked'])\n",
    "predict_df['Age'].fillna(predict_df['Age'].median(), inplace=True)\n",
    "predict_df['Fare'].fillna(predict_df['Fare'].median(), inplace=True)\n",
    "predict_df['Cabin'].fillna('Unknown', inplace=True)\n",
    "\n",
    "X_predict = predict_df[features]"
   ]
  },
  {
   "cell_type": "code",
   "execution_count": 13,
   "id": "58f06b7b-c042-496c-953a-2c3a8a2617e8",
   "metadata": {},
   "outputs": [],
   "source": [
    "# Tahmin yapma\n",
    "predictions = model.predict(X_predict)\n"
   ]
  },
  {
   "cell_type": "code",
   "execution_count": 14,
   "id": "fb7a1f3d-882f-4659-ae31-6bbc651441d6",
   "metadata": {},
   "outputs": [],
   "source": [
    "# ## Tahmin Sonuçlarının CSV Dosyasına Kaydedilmesi\n",
    "\n",
    "# Tahmin sonuçlarını CSV dosyasına kaydetme\n",
    "results = pd.DataFrame({\n",
    "    'PassengerId': predict_df['PassengerId'],\n",
    "    'Survived': predictions\n",
    "})\n",
    "\n",
    "results.to_csv('submission.csv', index=False)"
   ]
  }
 ],
 "metadata": {
  "kernelspec": {
   "display_name": "Python 3 (ipykernel)",
   "language": "python",
   "name": "python3"
  },
  "language_info": {
   "codemirror_mode": {
    "name": "ipython",
    "version": 3
   },
   "file_extension": ".py",
   "mimetype": "text/x-python",
   "name": "python",
   "nbconvert_exporter": "python",
   "pygments_lexer": "ipython3",
   "version": "3.12.4"
  }
 },
 "nbformat": 4,
 "nbformat_minor": 5
}
